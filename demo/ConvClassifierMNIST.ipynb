{
  "nbformat": 4,
  "nbformat_minor": 0,
  "metadata": {
    "colab": {
      "name": "ConvClassifierMNIST.ipynb",
      "version": "0.3.2",
      "provenance": [],
      "collapsed_sections": []
    },
    "kernelspec": {
      "name": "python3",
      "display_name": "Python 3"
    },
    "accelerator": "GPU"
  },
  "cells": [
    {
      "cell_type": "code",
      "metadata": {
        "id": "uFLZRsfrZ2Ej",
        "colab_type": "code",
        "colab": {}
      },
      "source": [
        "from __future__ import absolute_import, division, print_function, unicode_literals\n",
        "\n",
        "# Install TensorFlow\n",
        "# !pip install tensorflow==2.0.0-beta1\n",
        "\n",
        "import tensorflow as tf\n",
        "import numpy as np\n",
        "\n",
        "# Plotting library.\n",
        "from matplotlib import pyplot as plt\n",
        "import pylab as pl\n",
        "from IPython import display\n",
        "\n",
        "import warnings\n",
        "warnings.filterwarnings('ignore')"
      ],
      "execution_count": 0,
      "outputs": []
    },
    {
      "cell_type": "code",
      "metadata": {
        "id": "ZYvndfChZ-3A",
        "colab_type": "code",
        "colab": {}
      },
      "source": [
        "mnist = tf.keras.datasets.mnist\n",
        "\n",
        "(x_train, y_train), (x_test, y_test) = mnist.load_data()\n",
        "x_train, x_test = x_train / 255.0, x_test / 255.0\n",
        "\n",
        "x_train = np.expand_dims(x_train, axis=-1)\n",
        "x_test = np.expand_dims(x_test, axis=-1)\n",
        "\n",
        "print ('Size of training images')\n",
        "print (x_train.shape)\n",
        "print ('Size of training labels')\n",
        "print (y_train.shape)\n",
        "print ('Size of test images')\n",
        "print (x_test.shape)\n",
        "print ('Size of test labels')\n",
        "print (y_test.shape)"
      ],
      "execution_count": 0,
      "outputs": []
    },
    {
      "cell_type": "code",
      "metadata": {
        "id": "msqa55ILa_WP",
        "colab_type": "code",
        "colab": {}
      },
      "source": [
        "MAX_IMAGES = 10\n",
        "def gallery(images, plot_labels=False, label=None, max_images=MAX_IMAGES, title='Input images'):  \n",
        "  class_dict = [u'zero', u'one', u'two', u'three', u'four', u'five', u'six', u'seven', u'eight', u'nine']\n",
        "  num_frames, h, w, num_channels = images.shape\n",
        "  num_frames = min(num_frames, max_images)\n",
        "  ff, axes = plt.subplots(1, num_frames,\n",
        "                          figsize=(num_frames, 1),\n",
        "                          subplot_kw={'xticks': [], 'yticks': []})\n",
        "  for i in range(0, num_frames):\n",
        "    if num_channels == 3:\n",
        "      axes[i].imshow(np.squeeze(images[i]))\n",
        "    else:\n",
        "      axes[i].imshow(np.squeeze(images[i]), cmap='gray')\n",
        "    if plot_labels:\n",
        "      if label.any():\n",
        "        axes[i].set_title(class_dict[label[i]])\n",
        "    plt.setp(axes[i].get_xticklabels(), visible=False)\n",
        "    plt.setp(axes[i].get_yticklabels(), visible=False)\n",
        "  ff.subplots_adjust(wspace=0.1)\n",
        "  plt.show()"
      ],
      "execution_count": 0,
      "outputs": []
    },
    {
      "cell_type": "code",
      "metadata": {
        "id": "TRBABwQFbUC2",
        "colab_type": "code",
        "colab": {}
      },
      "source": [
        "gallery(x_train, label=y_train, plot_labels=True)"
      ],
      "execution_count": 0,
      "outputs": []
    },
    {
      "cell_type": "code",
      "metadata": {
        "id": "oBDBPoU7h40v",
        "colab_type": "code",
        "colab": {}
      },
      "source": [
        "NUM_CONV_FILTERS1 = 32  #@param\n",
        "CONV_KERNEL_SIZE1 = 11  #@param\n",
        "NUM_CONV_FILTERS2 = 64  #@param\n",
        "CONV_KERNEL_SIZE2 = 3  #@param\n",
        "NUM_DENSE_UNITS = 128  #@param\n",
        "NUM_CLASSES = 10  #@param\n",
        "EPOCHS = 5  #@param\n",
        "BATCH_SIZE = 16 #@param"
      ],
      "execution_count": 0,
      "outputs": []
    },
    {
      "cell_type": "code",
      "metadata": {
        "id": "oFmbW03VOMlw",
        "colab_type": "code",
        "colab": {}
      },
      "source": [
        "train_ds = tf.data.Dataset.from_tensor_slices((x_train, y_train)).shuffle(100000).batch(BATCH_SIZE)\n",
        "test_ds = tf.data.Dataset.from_tensor_slices((x_test, y_test)).batch(BATCH_SIZE)"
      ],
      "execution_count": 0,
      "outputs": []
    },
    {
      "cell_type": "code",
      "metadata": {
        "id": "Y57M0ddWeGd7",
        "colab_type": "code",
        "colab": {}
      },
      "source": [
        "mymodel = tf.keras.Sequential([\n",
        "  tf.keras.layers.Conv2D(NUM_CONV_FILTERS1, CONV_KERNEL_SIZE1),\n",
        "  tf.keras.layers.ReLU(),\n",
        "  tf.keras.layers.Conv2D(NUM_CONV_FILTERS2, CONV_KERNEL_SIZE2),\n",
        "  tf.keras.layers.ReLU(),\n",
        "  tf.keras.layers.Flatten(),\n",
        "  tf.keras.layers.Dense(NUM_DENSE_UNITS),\n",
        "  tf.keras.layers.ReLU(),\n",
        "  tf.keras.layers.Dense(NUM_CLASSES),\n",
        "  tf.keras.layers.Softmax()\n",
        "])"
      ],
      "execution_count": 0,
      "outputs": []
    },
    {
      "cell_type": "code",
      "metadata": {
        "id": "p62jIkeRlGWc",
        "colab_type": "code",
        "colab": {}
      },
      "source": [
        "loss_fn = tf.keras.losses.SparseCategoricalCrossentropy()\n",
        "optimizer = tf.keras.optimizers.Adam()\n",
        "train_loss = tf.keras.metrics.Mean(name='train_loss')\n",
        "train_accuracy = tf.keras.metrics.SparseCategoricalAccuracy(name='train_accuracy')\n",
        "\n",
        "test_loss = tf.keras.metrics.Mean(name='test_loss')\n",
        "test_accuracy = tf.keras.metrics.SparseCategoricalAccuracy(name='test_accuracy')"
      ],
      "execution_count": 0,
      "outputs": []
    },
    {
      "cell_type": "code",
      "metadata": {
        "id": "kpXCwvcgk7Ky",
        "colab_type": "code",
        "colab": {}
      },
      "source": [
        "# @tf.function\n",
        "def train_step(images, labels):\n",
        "  with tf.GradientTape() as tape:\n",
        "    predictions = mymodel(images)\n",
        "    loss = loss_fn(labels, predictions)\n",
        "  gradients = tape.gradient(loss, mymodel.trainable_variables)\n",
        "  optimizer.apply_gradients(zip(gradients, mymodel.trainable_variables))\n",
        "\n",
        "  train_loss(loss)\n",
        "  train_accuracy(labels, predictions)"
      ],
      "execution_count": 0,
      "outputs": []
    },
    {
      "cell_type": "code",
      "metadata": {
        "id": "Xl9DXh8slyUl",
        "colab_type": "code",
        "colab": {}
      },
      "source": [
        "# @tf.function\n",
        "def test_step(images, labels):\n",
        "  predictions = mymodel(images)\n",
        "  t_loss = loss_fn(labels, predictions)\n",
        "\n",
        "  test_loss(t_loss)\n",
        "  test_accuracy(labels, predictions)"
      ],
      "execution_count": 0,
      "outputs": []
    },
    {
      "cell_type": "code",
      "metadata": {
        "id": "dre-PfShNDlL",
        "colab_type": "code",
        "colab": {}
      },
      "source": [
        "def display_filters_layer0(model):\n",
        "  weights0 = model.layers[0].weights[0].numpy()\n",
        "  filters = np.transpose(weights0, axes=(3, 0, 1, 2))\n",
        "  gallery(filters, max_images=NUM_CONV_FILTERS1)"
      ],
      "execution_count": 0,
      "outputs": []
    },
    {
      "cell_type": "code",
      "metadata": {
        "id": "0h3lAqTBNRAD",
        "colab_type": "code",
        "colab": {}
      },
      "source": [
        "# visualise model weights (first layer only) and evaluate model on M batches\n",
        "def eval_model(model, M=1):\n",
        "  test_iter = 0\n",
        "  for test_images, test_labels in test_ds:\n",
        "    test_iter += 1\n",
        "    if test_iter > M: \n",
        "      break\n",
        "    predictions = model(test_images)\n",
        "    idx_class = tf.argmax(predictions, axis=-1).numpy()\n",
        "    gallery(test_images, label=idx_class, plot_labels=True)\n",
        "  display_filters_layer0(model)"
      ],
      "execution_count": 0,
      "outputs": []
    },
    {
      "cell_type": "code",
      "metadata": {
        "id": "ZdfdzlRu6Izv",
        "colab_type": "code",
        "colab": {}
      },
      "source": [
        "# visualise filters and labels before training\n",
        "eval_model(mymodel, M=3)"
      ],
      "execution_count": 0,
      "outputs": []
    },
    {
      "cell_type": "code",
      "metadata": {
        "id": "q2Hk2BNB5wGF",
        "colab_type": "code",
        "colab": {}
      },
      "source": [
        "# check number of parameters and configurations of layers to make sure the setup is correct\n",
        "mymodel.summary()"
      ],
      "execution_count": 0,
      "outputs": []
    },
    {
      "cell_type": "code",
      "metadata": {
        "id": "qXd-8dxFgH_D",
        "colab_type": "code",
        "colab": {}
      },
      "source": [
        "for epoch in range(EPOCHS):\n",
        "  train_iter = 0\n",
        "  for images, labels in train_ds:\n",
        "    train_iter += 1\n",
        "    train_step(images, labels)\n",
        "    if train_iter % 100 == 0:\n",
        "      print ('Epoch {}, train iter {}'.format(epoch, train_iter))\n",
        "      eval_model(mymodel, M=3)\n",
        "\n",
        "  for test_images, test_labels in test_ds:\n",
        "    test_step(test_images, test_labels)\n",
        "\n",
        "  # visualise filters and labels after some training\n",
        "  eval_model(mymodel, M=2)\n",
        "  template = 'Epoch {}, Loss: {}, Accuracy: {}, Test Loss: {}, Test Accuracy: {}'\n",
        "  print (template.format(epoch+1,\n",
        "                         train_loss.result(),\n",
        "                         train_accuracy.result()*100,\n",
        "                         test_loss.result(),\n",
        "                         test_accuracy.result()*100))"
      ],
      "execution_count": 0,
      "outputs": []
    },
    {
      "cell_type": "code",
      "metadata": {
        "id": "ag_s0BfmTyUQ",
        "colab_type": "code",
        "colab": {}
      },
      "source": [
        ""
      ],
      "execution_count": 0,
      "outputs": []
    }
  ]
}
